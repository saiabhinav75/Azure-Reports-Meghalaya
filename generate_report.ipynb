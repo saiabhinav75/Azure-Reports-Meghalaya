{
 "cells": [
  {
   "cell_type": "code",
   "execution_count": 1,
   "metadata": {},
   "outputs": [],
   "source": [
    "import pandas as pd , requests\n",
    "import base64, json , os, uuid\n",
    "import re"
   ]
  },
  {
   "cell_type": "code",
   "execution_count": 9,
   "metadata": {},
   "outputs": [],
   "source": [
    "def extract_student_data(xl_file,school):\n",
    "    student_names = []\n",
    "    classes = []\n",
    "    sections = []\n",
    "    student_roll_nos = []\n",
    "    student_ids = []\n",
    "    for row in range(len(xl_file)):\n",
    "        values = xl_file.iloc[row]\n",
    "        # print(values)\n",
    "        name = values[\"firstname\"] + values[\"lastname\"]\n",
    "        Class = values[\"class\"]\n",
    "        section = values[\"section\"]\n",
    "        roll_no = values[\"rollnumber\"]\n",
    "        random_uuid = uuid.uuid4()\n",
    "        # print(random_uuid)\n",
    "        student_ids.append(random_uuid)\n",
    "        student_names.append(name)\n",
    "        classes.append(Class)\n",
    "        sections.append(section)\n",
    "        student_roll_nos.append(roll_no)\n",
    "    data = {\n",
    "        \"student_id\" : student_ids,\n",
    "        \"name\":student_names,\n",
    "        \"class\":classes,\n",
    "        \"section\":sections,\n",
    "        \"roll_no\":student_roll_nos,\n",
    "        \"school\":[school]*len(xl_file)\n",
    "    }\n",
    "    df = pd.DataFrame(data)\n",
    "    # Created unique ids for students of Class 1A\n",
    "    df.to_csv(f\"{Class}{section}_student_data.csv\",index=False)"
   ]
  },
  {
   "cell_type": "code",
   "execution_count": 10,
   "metadata": {},
   "outputs": [],
   "source": [
    "def extract_student_report(xl_file,audios_folder):\n",
    "    audios = os.listdir(audios_folder)\n",
    "    audio_exist = {}\n",
    "    for audio in audios:\n",
    "        audio_roll_no = audio.replace(\".ogg\",\"\").replace(\".mp3\",\"\")[::-1].split()[0][::-1]\n",
    "        audio_exist[audio_roll_no] = f\"{audios_folder}/{audio}\"\n",
    "    print(audio_exist)\n",
    "    student_ids = []\n",
    "    RCA = [] # Integer\n",
    "    partA_scores = []\n",
    "    partB_scores = []\n",
    "    totals = []\n",
    "    grades = []\n",
    "    partA_reports = [] # dump the json here\n",
    "    partB_reports = []\n",
    "    feedbacks = []\n",
    "    for row in range(len(xl_file)):\n",
    "        id, name, Class, section, roll_no, school = xl_file.iloc[row].values\n",
    "        if str(roll_no).strip() not in audio_exist:\n",
    "            print(\"Audio not exist for\", roll_no)\n",
    "        else:\n",
    "            audio_file_path = audio_exist[str(roll_no).strip()]\n",
    "            print(roll_no, audio_file_path)\n",
    "            with open(audio_file_path, \"rb\") as file:\n",
    "                file_data = bytearray(file.read())\n",
    "\n",
    "            file_base64 = base64.b64encode(file_data).decode('utf-8')\n",
    "            print(len(file_base64))\n",
    "            body = {\n",
    "                \"studentClass\":int(Class),\n",
    "                \"audioBufferBase64\":file_base64\n",
    "            }\n",
    "            report_response = requests.post(\"http://localhost:5000/api/get-report\",json=body)\n",
    "            report_json = report_response.json()\n",
    "            partA_score = report_json[\"partA_score\"][\"score\"]\n",
    "            feedback = report_json[\"feedback\"]\n",
    "            print(partA_score,feedback)\n",
    "            # id, RCA, partA_score, partB_score, total, grade, partA_report, feedback\n",
    "            student_ids.append(id)\n",
    "            RCA.append(1)\n",
    "            partA_scores.append(partA_score)\n",
    "            partB_scores.append(\" \")\n",
    "            partB_reports.append(\" \")\n",
    "            totals.append(\" \")\n",
    "            grades.append(\" \")\n",
    "            partA_reports.append(report_json)\n",
    "            feedbacks.append(feedback)\n",
    "            \n",
    "\n",
    "    student_reports_data = {\n",
    "        \"student_id\" : student_ids,\n",
    "        \"rca\" : RCA,\n",
    "        \"partA_score\":partA_scores,\n",
    "        \"partB_score\":partB_scores,\n",
    "        \"total\":totals,\n",
    "        \"grade\":grades,\n",
    "        \"partA_report\":partA_reports,\n",
    "        \"partB_report\":partB_reports,\n",
    "        \"feedback\":feedbacks\n",
    "    }\n",
    "    report_df = pd.DataFrame(student_reports_data)\n",
    "    report_df.to_csv(f\"{Class}{section}_student_audio_report.csv\",index=False)"
   ]
  },
  {
   "cell_type": "code",
   "execution_count": 17,
   "metadata": {},
   "outputs": [],
   "source": [
    "def final_report(partb_xl_file,student_report_file,student_data_file):\n",
    "    partB_responses = {}\n",
    "    part_b_roll_no = {}\n",
    "    for row in range(len(partb_xl_file)):\n",
    "        values = partb_xl_file.iloc[row]\n",
    "        Class = values[\"class\"]\n",
    "        section = values[\"section\"]\n",
    "        roll_no = values[\"rollnumber\"]\n",
    "        part_b_roll_no[str(roll_no)] = 1\n",
    "        response = [res.strip() for res in re.findall(r'\\[([^\\]]+)\\]' , values[\"response\"] ) ]\n",
    "        marks = values[\"marks\"]\n",
    "        partB_responses[str(roll_no)] = {\n",
    "            \"marks\":marks,\n",
    "            \"partB_report\" :response\n",
    "        }\n",
    "    roll_no_mapped_student_id = {}\n",
    "    for row in range(len(student_data_file)):\n",
    "        data_values = student_data_file.iloc[row]\n",
    "        roll_no_mapped_student_id[data_values[\"student_id\"]] = str(roll_no)\n",
    "    \n",
    "    student_ids = [] \n",
    "    rcas = [] \n",
    "    partA_scores = []\n",
    "    partB_scores = [] \n",
    "    totals = []\n",
    "    grades = []\n",
    "    partA_reports = []\n",
    "    partB_reports = []\n",
    "    feedbacks = []\n",
    "    for row in range(len(student_report_file)):\n",
    "        values = student_report_file.iloc[row]\n",
    "        if roll_no_mapped_student_id[values[\"student_id\"]] in part_b_roll_no:\n",
    "            student_ids.append(values[\"student_id\"])\n",
    "            rcas.append(values[\"rca\"])\n",
    "            partA_scores.append(values[\"partA_score\"])\n",
    "            partB_scores.append(partB_responses[roll_no_mapped_student_id[values[\"student_id\"]]][\"marks\"]*2)\n",
    "            total = (values[\"partA_score\"] + partB_responses[roll_no_mapped_student_id[values[\"student_id\"]]][\"marks\"])/2\n",
    "            totals.append(total)\n",
    "            if total<50:\n",
    "                grades.append(\"Emergent\")\n",
    "            elif total<80:\n",
    "                grades.append(\"Transitional\")\n",
    "            else:\n",
    "                grades.append(\"Proficient\")\n",
    "            partA_reports.append(json.dumps(values[\"partA_report\"]))\n",
    "            partB_reports.append('@'.join(partB_responses[roll_no_mapped_student_id[values[\"student_id\"]]][\"partB_report\"]))\n",
    "            feedbacks.append(json.dumps(values[\"feedback\"]))\n",
    "    data = {\n",
    "        \"student_id\" : student_ids,\n",
    "        \"rca\" : rcas,\n",
    "        \"partA_score\" : partA_scores,\n",
    "        \"partB_score\" : partB_scores,\n",
    "        \"total\" : totals,\n",
    "        \"grade\" : grades,\n",
    "        \"partA_report\" : partA_reports,\n",
    "        \"partB_report\" : partB_reports,\n",
    "        \"feedback\" : feedbacks\n",
    "    }\n",
    "\n",
    "    class_1b_final_report = pd.DataFrame(data)\n",
    "    class_1b_final_report.to_csv(f\"{Class}{section}_student_final_report.csv\",index=False)"
   ]
  },
  {
   "cell_type": "markdown",
   "metadata": {},
   "source": [
    "Class 1B"
   ]
  },
  {
   "cell_type": "code",
   "execution_count": 26,
   "metadata": {},
   "outputs": [],
   "source": [
    "class_1b_raw_excel = pd.read_csv(\"Class 1b.csv\")\n",
    "extract_student_data(class_1b_raw_excel,school=\"donbosco\")"
   ]
  },
  {
   "cell_type": "markdown",
   "metadata": {},
   "source": [
    "Class 1B Part A Report"
   ]
  },
  {
   "cell_type": "code",
   "execution_count": null,
   "metadata": {},
   "outputs": [],
   "source": [
    "class_1b_student_data = pd.read_excel(\"1B_student_data.xlsx\")\n",
    "extract_student_report(class_1b_student_data,audios_folder=\"1 - B Recording list\")"
   ]
  },
  {
   "cell_type": "markdown",
   "metadata": {},
   "source": [
    "Class 1B- Part B report"
   ]
  },
  {
   "cell_type": "markdown",
   "metadata": {},
   "source": [
    "Class 1A Final Report"
   ]
  },
  {
   "cell_type": "code",
   "execution_count": 18,
   "metadata": {},
   "outputs": [],
   "source": [
    "class_1a_partb = pd.read_csv(\"Class - 1A-Part-B.csv\")\n",
    "class_1a_parta_report = pd.read_excel(\"1A_student_report_data.xlsx\")\n",
    "class_1a_student_data = pd.read_excel(\"1A_student_data.xlsx\")\n",
    "final_report(partb_xl_file=class_1a_partb,student_report_file=class_1a_parta_report,student_data_file=class_1a_student_data)"
   ]
  }
 ],
 "metadata": {
  "kernelspec": {
   "display_name": "Python 3",
   "language": "python",
   "name": "python3"
  },
  "language_info": {
   "codemirror_mode": {
    "name": "ipython",
    "version": 3
   },
   "file_extension": ".py",
   "mimetype": "text/x-python",
   "name": "python",
   "nbconvert_exporter": "python",
   "pygments_lexer": "ipython3",
   "version": "3.11.7"
  }
 },
 "nbformat": 4,
 "nbformat_minor": 2
}
