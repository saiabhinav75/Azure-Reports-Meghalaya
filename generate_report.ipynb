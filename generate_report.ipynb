{
 "cells": [
  {
   "cell_type": "code",
   "execution_count": 1,
   "metadata": {},
   "outputs": [],
   "source": [
    "import pandas as pd , requests\n",
    "import base64, json , os, uuid\n",
    "import re, librosa"
   ]
  },
  {
   "cell_type": "code",
   "execution_count": 2,
   "metadata": {},
   "outputs": [],
   "source": [
    "def extract_student_data(xl_file,school):\n",
    "    student_names = []\n",
    "    classes = []\n",
    "    sections = []\n",
    "    student_roll_nos = []\n",
    "    student_ids = []\n",
    "    for row in range(len(xl_file)):\n",
    "        values = xl_file.iloc[row]\n",
    "        # print(values)\n",
    "        name = values[\"firstname\"] + values[\"lastname\"]\n",
    "        Class = values[\"class\"]\n",
    "        section = values[\"section\"]\n",
    "        roll_no = values[\"rollnumber\"]\n",
    "        random_uuid = uuid.uuid4()\n",
    "        # print(random_uuid)\n",
    "        student_ids.append(random_uuid)\n",
    "        student_names.append(name)\n",
    "        classes.append(Class)\n",
    "        sections.append(section)\n",
    "        student_roll_nos.append(roll_no)\n",
    "    data = {\n",
    "        \"student_id\" : student_ids,\n",
    "        \"name\":student_names,\n",
    "        \"class\":classes,\n",
    "        \"section\":sections,\n",
    "        \"roll_no\":student_roll_nos,\n",
    "        \"school\":[school]*len(xl_file)\n",
    "    }\n",
    "    df = pd.DataFrame(data)\n",
    "    # Created unique ids for students of Class 1A\n",
    "    df.to_csv(f\"{Class}{section}_student_data.csv\",index=False)"
   ]
  },
  {
   "cell_type": "code",
   "execution_count": 2,
   "metadata": {},
   "outputs": [],
   "source": [
    "def generate_audio_report(xl_file,audios_folder,rca):\n",
    "    audios = os.listdir(audios_folder)\n",
    "    audio_exist = {}\n",
    "    for audio in audios:\n",
    "        audio_roll_no = audio.replace(\".ogg\",\"\").replace(\".mp3\",\"\")[::-1].split()[0][::-1]\n",
    "        audio_exist[audio_roll_no] = f\"{audios_folder}/{audio}\"\n",
    "    print(audio_exist)\n",
    "    student_ids = []\n",
    "    RCA = [] # Integer\n",
    "    partA_scores = []\n",
    "    partB_scores = []\n",
    "    totals = []\n",
    "    grades = []\n",
    "    partA_reports = [] # dump the json here\n",
    "    partB_reports = []\n",
    "    feedbacks = []\n",
    "    durations = []\n",
    "    for row in range(len(xl_file)):\n",
    "        id, name, Class, section, roll_no, school = xl_file.iloc[row].values\n",
    "        if str(roll_no).strip() not in audio_exist:\n",
    "            print(\"Audio not exist for\", roll_no)\n",
    "        else:\n",
    "            audio_file_path = audio_exist[str(roll_no).strip()]\n",
    "            audio_data, sample_rate = librosa.load(audio_file_path, sr=None)\n",
    "            duration_in_seconds = librosa.get_duration(y=audio_data, sr=sample_rate)\n",
    "            print(roll_no, audio_file_path)\n",
    "            with open(audio_file_path, \"rb\") as file:\n",
    "                file_data = bytearray(file.read())\n",
    "\n",
    "            file_base64 = base64.b64encode(file_data).decode('utf-8')\n",
    "            print(len(file_base64))\n",
    "            body = {\n",
    "                \"studentClass\":int(Class),\n",
    "                \"audioBufferBase64\":file_base64,\n",
    "                \"rca\":rca\n",
    "            }\n",
    "            report_response = requests.post(\"http://localhost:5000/api/get-report\",json=body)\n",
    "            report_json = report_response.json()\n",
    "            partA_score = report_json[\"partA_score\"][\"score\"]\n",
    "            feedback = report_json[\"feedback\"]\n",
    "            # id, RCA, partA_score, partB_score, total, grade, partA_report, feedback\n",
    "            student_ids.append(id)\n",
    "            RCA.append(rca)\n",
    "            partA_scores.append(partA_score)\n",
    "            partB_scores.append(\" \")\n",
    "            partB_reports.append(\" \")\n",
    "            totals.append(\" \")\n",
    "            grades.append(\" \")\n",
    "            partA_reports.append(json.dumps(report_json))\n",
    "            feedbacks.append(json.dumps(feedback))\n",
    "            durations.append(duration_in_seconds)\n",
    "            \n",
    "\n",
    "    student_reports_data = {\n",
    "        \"student_id\" : student_ids,\n",
    "        \"rca\" : RCA,\n",
    "        \"partA_score\":partA_scores,\n",
    "        \"partB_score\":partB_scores,\n",
    "        \"total\":totals,\n",
    "        \"grade\":grades,\n",
    "        \"partA_report\":partA_reports,\n",
    "        \"partB_report\":partB_reports,\n",
    "        \"feedback\":feedbacks,\n",
    "        \"duration\":durations\n",
    "    }\n",
    "    report_df = pd.DataFrame(student_reports_data)\n",
    "    report_df.to_csv(f\"{Class}{section}_student_audio_report.csv\",index=False)"
   ]
  },
  {
   "cell_type": "code",
   "execution_count": 3,
   "metadata": {},
   "outputs": [],
   "source": [
    "def re_generate_audio_report(student_data,student_audio_report,audios_folder,rca):\n",
    "    ids_in_reportfile = student_audio_report[\"student_id\"].values\n",
    "    ids_in_reportfile = ids_in_reportfile.tolist()\n",
    "    audios = os.listdir(audios_folder)\n",
    "    audio_exist = {}\n",
    "    for audio in audios:\n",
    "        audio_roll_no = audio.replace(\".ogg\",\"\").replace(\".mp3\",\"\")[::-1].split()[0][::-1]\n",
    "        audio_exist[audio_roll_no] = f\"{audios_folder}/{audio}\"\n",
    "    student_ids = []\n",
    "    RCA = [] # Integer\n",
    "    partA_scores = []\n",
    "    partB_scores = []\n",
    "    totals = []\n",
    "    grades = []\n",
    "    partA_reports = [] # dump the json here\n",
    "    partB_reports = []\n",
    "    durations = []\n",
    "    for row in range(len(student_data)):\n",
    "        data = student_data.iloc[row]\n",
    "        Class = data[\"class\"]\n",
    "        section = data[\"section\"]\n",
    "        roll_no = data[\"roll_no\"]\n",
    "        if data[\"student_id\"] not in ids_in_reportfile and str(data[\"roll_no\"]) in audio_exist:\n",
    "            audio_file_path = audio_exist[str(roll_no).strip()]\n",
    "            try:\n",
    "                audio_data, sample_rate = librosa.load(audio_file_path, sr=None,dtype=float)\n",
    "                duration_in_seconds = librosa.get_duration(y=audio_data, sr=sample_rate)\n",
    "            except:\n",
    "                print(\"Couldn' read duration for\",roll_no,audio_file_path)\n",
    "            print(roll_no, audio_file_path)\n",
    "            with open(audio_file_path, \"rb\") as file:\n",
    "                file_data = bytearray(file.read())\n",
    "\n",
    "            file_base64 = base64.b64encode(file_data).decode('utf-8')\n",
    "            print(len(file_base64))\n",
    "            body = {\n",
    "                \"studentClass\":int(Class),\n",
    "                \"audioBufferBase64\":file_base64,\n",
    "                \"rca\":rca\n",
    "            }\n",
    "            report_response = requests.post(\"http://localhost:5000/api/get-report\",json=body)\n",
    "            report_json = report_response.json()\n",
    "            partA_score = report_json[\"partA_score\"][\"score\"]\n",
    "            feedback = report_json[\"feedback\"]\n",
    "            # id, RCA, partA_score, partB_score, total, grade, partA_report, feedback\n",
    "            student_ids.append(data[\"student_id\"])\n",
    "            RCA.append(1)\n",
    "            partA_scores.append(partA_score)\n",
    "            partB_scores.append(\" \")\n",
    "            partB_reports.append(\" \")\n",
    "            totals.append(\" \")\n",
    "            grades.append(\" \")\n",
    "            partA_reports.append(json.dumps(report_json))\n",
    "            durations.append(duration_in_seconds)\n",
    "            \n",
    "        elif data[\"student_id\"] in ids_in_reportfile:\n",
    "            audio_file_path = audio_exist[str(roll_no).strip()]\n",
    "            try:\n",
    "                audio_data, sample_rate = librosa.load(audio_file_path, sr=None,dtype=float)\n",
    "                duration_in_seconds = librosa.get_duration(y=audio_data, sr=sample_rate)\n",
    "            except:\n",
    "                print(\"Couldn' read duration for\",roll_no,audio_file_path)\n",
    "            audio_report_data = student_audio_report.iloc[ids_in_reportfile.index(data[\"student_id\"])]\n",
    "            student_ids.append(audio_report_data[\"student_id\"])\n",
    "            RCA.append(audio_report_data[\"rca\"]) # Integer\n",
    "            partA_scores.append(audio_report_data[\"partA_score\"])\n",
    "            partB_scores.append(audio_report_data[\"partB_score\"])\n",
    "            totals.append(audio_report_data[\"total\"])\n",
    "            grades.append(audio_report_data[\"grade\"])\n",
    "            partA_reports.append(audio_report_data[\"partA_report\"]) # dump the json here\n",
    "            partB_reports.append(audio_report_data[\"partB_report\"])\n",
    "            durations.append(duration_in_seconds)\n",
    "    student_reports_data = {\n",
    "        \"student_id\" : student_ids,\n",
    "        \"rca\" : RCA,\n",
    "        \"partA_score\":partA_scores,\n",
    "        \"partB_score\":partB_scores,\n",
    "        \"total\":totals,\n",
    "        \"grade\":grades,\n",
    "        \"partA_report\":partA_reports,\n",
    "        \"partB_report\":partB_reports,\n",
    "        \"duration\":durations\n",
    "    }\n",
    "    report_df = pd.DataFrame(student_reports_data)\n",
    "    report_df.to_csv(f\"{Class}{section}_student_audio_report.csv\",index=False)"
   ]
  },
  {
   "cell_type": "code",
   "execution_count": 4,
   "metadata": {},
   "outputs": [],
   "source": [
    "def final_report(partb_xl_file,student_report_file,student_data_file):\n",
    "    partB_responses = {}\n",
    "    part_b_roll_no = {}\n",
    "    for row in range(len(partb_xl_file)):\n",
    "        values = partb_xl_file.iloc[row]\n",
    "        Class = values[\"class\"]\n",
    "        section = values[\"section\"]\n",
    "        roll_no = values[\"rollnumber\"]\n",
    "        part_b_roll_no[str(roll_no)] = 1\n",
    "        response = [res.strip() for res in re.findall(r'\\[([^\\]]+)\\]' , values[\"Response 2\"] ) ]\n",
    "        right_answer = [res.strip() for res in re.findall(r'\\[([^\\]]+)\\]' , values[\"Right answer 2\"] ) ]\n",
    "        marks = 0\n",
    "        for answer in range(min(len(response),len(right_answer))):\n",
    "            if response[answer] == right_answer[answer]:\n",
    "                marks += 10\n",
    "        partB_responses[str(roll_no)] = {\n",
    "            \"marks\":marks,\n",
    "            \"partB_report\" :response\n",
    "        }\n",
    "    roll_no_mapped_student_id = {}\n",
    "    for row in range(len(student_data_file)):\n",
    "        data_values = student_data_file.iloc[row]\n",
    "        roll_no_mapped_student_id[data_values[\"student_id\"]] = str(data_values[\"roll_no\"])\n",
    "    \n",
    "    student_ids = [] \n",
    "    RCA = [] \n",
    "    partA_scores = []\n",
    "    partB_scores = [] \n",
    "    totals = []\n",
    "    grades = []\n",
    "    partA_reports = []\n",
    "    partB_reports = []\n",
    "    durations = []\n",
    "    for row in range(len(student_report_file)):\n",
    "        values = student_report_file.iloc[row]\n",
    "        if roll_no_mapped_student_id[values[\"student_id\"]] in part_b_roll_no :\n",
    "            student_ids.append(values[\"student_id\"])\n",
    "            RCA.append(values[\"rca\"])\n",
    "            partA_scores.append(values[\"partA_score\"])\n",
    "            partB_scores.append(partB_responses[roll_no_mapped_student_id[values[\"student_id\"]]][\"marks\"]*2)\n",
    "            total = (values[\"partA_score\"] + partB_responses[roll_no_mapped_student_id[values[\"student_id\"]]][\"marks\"]*2)/2\n",
    "            totals.append(total)\n",
    "            if total<50:\n",
    "                grades.append(\"Emergent\")\n",
    "            elif total<80:\n",
    "                grades.append(\"Transitional\")\n",
    "            else:\n",
    "                grades.append(\"Proficient\")\n",
    "            partA_reports.append(values[\"partA_report\"])\n",
    "            partB_reports.append('@'.join(partB_responses[roll_no_mapped_student_id[values[\"student_id\"]]][\"partB_report\"]))\n",
    "            durations.append(values[\"duration\"])\n",
    "    data = {\n",
    "        \"student_id\" : student_ids,\n",
    "        \"rca\" : RCA,\n",
    "        \"partA_score\":partA_scores,\n",
    "        \"partB_score\":partB_scores,\n",
    "        \"total\":totals,\n",
    "        \"grade\":grades,\n",
    "        \"partA_report\":partA_reports,\n",
    "        \"partB_report\":partB_reports,\n",
    "        \"duration\":durations\n",
    "    }\n",
    "\n",
    "    final_report = pd.DataFrame(data)\n",
    "    final_report.to_csv(f\"{Class}{section}_student_final_report.csv\",index=False)"
   ]
  },
  {
   "cell_type": "markdown",
   "metadata": {},
   "source": [
    "Class 1 A"
   ]
  },
  {
   "cell_type": "code",
   "execution_count": 8,
   "metadata": {},
   "outputs": [],
   "source": [
    "class_1a_partb = pd.read_excel(\"part b\\Class - 1A.xlsx\")\n",
    "class_1a_student_data = pd.read_csv(\"student_data/1A_student_data.csv\")\n",
    "class_1a_audio_report = pd.read_csv(\"1A_student_audio_report.csv\")\n",
    "final_report(partb_xl_file=class_1a_partb,student_data_file=class_1a_student_data,student_report_file=class_1a_audio_report)"
   ]
  },
  {
   "cell_type": "markdown",
   "metadata": {},
   "source": [
    "Class 1B"
   ]
  },
  {
   "cell_type": "code",
   "execution_count": 11,
   "metadata": {},
   "outputs": [],
   "source": [
    "class_1b_partb = pd.read_excel(\"part b\\Class - 1B.xlsx\")\n",
    "class_1b_parta_report = pd.read_csv(\"1B_student_audio_report.csv\")\n",
    "class_1b_student_data = pd.read_csv(\"student_data/1B_student_data.csv\")\n",
    "final_report(partb_xl_file=class_1b_partb,student_report_file=class_1b_parta_report,student_data_file=class_1b_student_data)"
   ]
  },
  {
   "cell_type": "markdown",
   "metadata": {},
   "source": [
    "Class 2A"
   ]
  },
  {
   "cell_type": "code",
   "execution_count": 13,
   "metadata": {},
   "outputs": [],
   "source": [
    "class_2a_partb = pd.read_excel(\"part b\\Class - 2A.xlsx\")\n",
    "class_2a_audio_report = pd.read_csv(\"2A_student_audio_report.csv\")\n",
    "class_2a_student_data = pd.read_csv(\"student_data/2A_student_data.csv\")\n",
    "final_report(partb_xl_file=class_2a_partb,student_report_file=class_2a_audio_report,student_data_file=class_2a_student_data)"
   ]
  },
  {
   "cell_type": "markdown",
   "metadata": {},
   "source": [
    "Class 2B"
   ]
  },
  {
   "cell_type": "code",
   "execution_count": 14,
   "metadata": {},
   "outputs": [],
   "source": [
    "class_2b_partb = pd.read_excel(\"part b\\Class-2B.xlsx\")\n",
    "class_2b_audio_report = pd.read_csv(\"2B_student_audio_report.csv\")\n",
    "class_2b_student_data = pd.read_csv(\"student_data/2B_student_data.csv\")\n",
    "final_report(partb_xl_file=class_2b_partb,student_report_file=class_2b_audio_report,student_data_file=class_2b_student_data)"
   ]
  },
  {
   "cell_type": "markdown",
   "metadata": {},
   "source": [
    "Class 3A"
   ]
  },
  {
   "cell_type": "code",
   "execution_count": 15,
   "metadata": {},
   "outputs": [],
   "source": [
    "class_3a_partb = pd.read_excel(\"part b\\Class -3A.xlsx\")\n",
    "class_3a_parta_report = pd.read_csv(\"3A_student_audio_report.csv\")\n",
    "class_3a_student_data = pd.read_csv(\"student_data/3A_student_data.csv\")\n",
    "final_report(partb_xl_file=class_3a_partb,student_data_file=class_3a_student_data,student_report_file=class_3a_parta_report)"
   ]
  },
  {
   "cell_type": "markdown",
   "metadata": {},
   "source": [
    "Class 3B"
   ]
  },
  {
   "cell_type": "code",
   "execution_count": 16,
   "metadata": {},
   "outputs": [],
   "source": [
    "class_3b_partb = pd.read_excel(\"part b\\Class - 3B.xlsx\")\n",
    "class_3b_audio_report = pd.read_csv(\"3B_student_audio_report.csv\")\n",
    "class_3b_student_data = pd.read_csv(\"student_data/3B_student_data.csv\")\n",
    "final_report(partb_xl_file=class_3b_partb,student_report_file=class_3b_audio_report,student_data_file=class_3b_student_data)"
   ]
  },
  {
   "cell_type": "markdown",
   "metadata": {},
   "source": [
    "Class 4A"
   ]
  },
  {
   "cell_type": "code",
   "execution_count": 17,
   "metadata": {},
   "outputs": [],
   "source": [
    "class_4a_partb = pd.read_excel(\"part b\\Class - 4A.xlsx\")\n",
    "class_4a_student_data = pd.read_csv(\"student_data/4A_student_data.csv\")\n",
    "class_4a_parta_report = pd.read_csv(\"4A_student_audio_report.csv\")\n",
    "final_report(partb_xl_file=class_4a_partb,student_data_file=class_4a_student_data,student_report_file=class_4a_parta_report)"
   ]
  },
  {
   "cell_type": "markdown",
   "metadata": {},
   "source": [
    "Class 4B"
   ]
  },
  {
   "cell_type": "code",
   "execution_count": 18,
   "metadata": {},
   "outputs": [],
   "source": [
    "class_4b_student_data = pd.read_csv(\"student_data/4B_student_data.csv\")\n",
    "class_4b_audio_report = pd.read_csv(\"4B_student_audio_report.csv\")\n",
    "class_4b_partb = pd.read_excel(\"part b\\Class - 4B.xlsx\")\n",
    "final_report(partb_xl_file=class_4b_partb,student_report_file=class_4b_audio_report,student_data_file=class_4b_student_data)"
   ]
  },
  {
   "cell_type": "markdown",
   "metadata": {},
   "source": [
    "Class 5A"
   ]
  },
  {
   "cell_type": "code",
   "execution_count": 19,
   "metadata": {},
   "outputs": [],
   "source": [
    "class_5a_partb = pd.read_excel(\"part b\\Class - 5A.xlsx\")\n",
    "class_5a_audio_report = pd.read_csv(\"5A_student_audio_report.csv\")\n",
    "class_5a_student_data = pd.read_csv(\"student_data/5A_student_data.csv\")\n",
    "final_report(partb_xl_file=class_5a_partb,student_report_file=class_5a_audio_report,student_data_file=class_5a_student_data)"
   ]
  },
  {
   "cell_type": "markdown",
   "metadata": {},
   "source": [
    "Class 5B"
   ]
  },
  {
   "cell_type": "code",
   "execution_count": 20,
   "metadata": {},
   "outputs": [],
   "source": [
    "class_5b_partb = pd.read_excel(\"part b\\Class - 5B.xlsx\")\n",
    "class_5b_audio_report  = pd.read_csv(\"5B_student_audio_report.csv\")\n",
    "class_5b_student_data = pd.read_csv(\"student_data/5B_student_data.csv\")\n",
    "final_report(partb_xl_file=class_5b_partb,student_report_file=class_5b_audio_report,student_data_file=class_5b_student_data)"
   ]
  }
 ],
 "metadata": {
  "kernelspec": {
   "display_name": "Python 3",
   "language": "python",
   "name": "python3"
  },
  "language_info": {
   "codemirror_mode": {
    "name": "ipython",
    "version": 3
   },
   "file_extension": ".py",
   "mimetype": "text/x-python",
   "name": "python",
   "nbconvert_exporter": "python",
   "pygments_lexer": "ipython3",
   "version": "3.11.7"
  }
 },
 "nbformat": 4,
 "nbformat_minor": 2
}
